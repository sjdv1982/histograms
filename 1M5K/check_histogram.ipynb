{
 "cells": [
  {
   "cell_type": "code",
   "execution_count": 1,
   "metadata": {},
   "outputs": [],
   "source": [
    "import json"
   ]
  },
  {
   "cell_type": "code",
   "execution_count": 13,
   "metadata": {},
   "outputs": [],
   "source": [
    "j=json.load(open(\"../histograms_5-10_50nn/6-45.json\"))"
   ]
  },
  {
   "cell_type": "code",
   "execution_count": 14,
   "metadata": {},
   "outputs": [],
   "source": [
    "bins=j[\"distance_bins\"]"
   ]
  },
  {
   "cell_type": "code",
   "execution_count": 15,
   "metadata": {},
   "outputs": [
    {
     "data": {
      "text/plain": [
       "27"
      ]
     },
     "execution_count": 15,
     "metadata": {},
     "output_type": "execute_result"
    }
   ],
   "source": [
    "len(bins[0])"
   ]
  },
  {
   "cell_type": "code",
   "execution_count": 16,
   "metadata": {
    "collapsed": true
   },
   "outputs": [
    {
     "data": {
      "text/plain": [
       "[[2.0, 3.054648400969203],\n",
       " [2.5, 3.054648400969203],\n",
       " [3.0, -0.48206558097531804],\n",
       " [3.5, -0.5334894833432013],\n",
       " [4.0, -0.553224339299855],\n",
       " [4.5, -0.8837918078865341],\n",
       " [5.0, -0.958541724726671],\n",
       " [5.5, -0.6853993397191331],\n",
       " [6.0, -0.4183527128219362],\n",
       " [6.5, -0.500699660520211],\n",
       " [7.0, -0.620853685532361],\n",
       " [7.5, -0.6617506764251102],\n",
       " [8.0, -0.7582513388314887],\n",
       " [8.5, -0.9318906566020058],\n",
       " [9.0, -0.6002651658946734],\n",
       " [9.5, -0.667020875967725],\n",
       " [10.0, -0.5888561031183883],\n",
       " [11.5, -0.44303401867040204],\n",
       " [13.0, -0.2892330918518349],\n",
       " [14.5, -0.43772521496554884],\n",
       " [16.0, -0.7795980217336824],\n",
       " [17.5, -1.0577639946628485],\n",
       " [19.0, -1.5623329459472322],\n",
       " [20.5, -2.0073813728713823],\n",
       " [22.0, -1.4012832631890078],\n",
       " [23.5, -1.028522860654773],\n",
       " [25.0, -1.1657448085594613],\n",
       " [999, -1.1060047227510426]]"
      ]
     },
     "execution_count": 16,
     "metadata": {},
     "output_type": "execute_result"
    }
   ],
   "source": [
    "# scoring bonus per pose, for each occurence of such a bead-bead distance in that pose\n",
    "bins[1]"
   ]
  },
  {
   "cell_type": "code",
   "execution_count": 17,
   "metadata": {},
   "outputs": [],
   "source": [
    "import numpy as np"
   ]
  },
  {
   "cell_type": "code",
   "execution_count": 18,
   "metadata": {},
   "outputs": [],
   "source": [
    "a = np.load(\"../distance-arrays/6-45.npy\")"
   ]
  },
  {
   "cell_type": "code",
   "execution_count": 22,
   "metadata": {},
   "outputs": [
    {
     "data": {
      "text/plain": [
       "dtype([('distance_ranges', '<f4', (27,)), ('rank_ranges', '<u4', (3,)), ('data', '<u4', (3, 28, 2))])"
      ]
     },
     "execution_count": 22,
     "metadata": {},
     "output_type": "execute_result"
    }
   ],
   "source": [
    "a.dtype"
   ]
  },
  {
   "cell_type": "code",
   "execution_count": 24,
   "metadata": {},
   "outputs": [
    {
     "data": {
      "text/plain": [
       "array([ 2. ,  2.5,  3. ,  3.5,  4. ,  4.5,  5. ,  5.5,  6. ,  6.5,  7. ,\n",
       "        7.5,  8. ,  8.5,  9. ,  9.5, 10. , 11.5, 13. , 14.5, 16. , 17.5,\n",
       "       19. , 20.5, 22. , 23.5, 25. ], dtype=float32)"
      ]
     },
     "execution_count": 24,
     "metadata": {},
     "output_type": "execute_result"
    }
   ],
   "source": [
    "a[\"distance_ranges\"]"
   ]
  },
  {
   "cell_type": "code",
   "execution_count": 25,
   "metadata": {},
   "outputs": [
    {
     "data": {
      "text/plain": [
       "array([16332, 32664, 33332], dtype=uint32)"
      ]
     },
     "execution_count": 25,
     "metadata": {},
     "output_type": "execute_result"
    }
   ],
   "source": [
    "# rank chunks\n",
    "a[\"rank_ranges\"]"
   ]
  },
  {
   "cell_type": "code",
   "execution_count": 36,
   "metadata": {},
   "outputs": [
    {
     "data": {
      "text/plain": [
       "array([[1.03247863, 0.48535038],\n",
       "       [0.36923077, 0.26142995],\n",
       "       [0.31452991, 0.32522454],\n",
       "       [0.32820513, 0.38987162],\n",
       "       [0.57435897, 0.42056122],\n",
       "       [0.48547009, 0.46204902],\n",
       "       [0.54017094, 0.50296849],\n",
       "       [0.52649573, 0.55099203],\n",
       "       [0.51965812, 0.56193231],\n",
       "       [0.73846154, 0.62501649],\n",
       "       [0.58803419, 0.67076673],\n",
       "       [0.68376068, 0.69548891],\n",
       "       [0.76581197, 0.67843913],\n",
       "       [0.7042735 , 0.69861471],\n",
       "       [0.76581197, 0.73598214],\n",
       "       [0.80683761, 0.78684731],\n",
       "       [0.92307692, 0.77164459],\n",
       "       [3.30940171, 2.29234282],\n",
       "       [3.06324786, 2.24787131],\n",
       "       [2.2017094 , 1.91213274],\n",
       "       [1.51111111, 1.56971634],\n",
       "       [1.23076923, 1.45732988],\n",
       "       [0.64957265, 1.27049272],\n",
       "       [0.45128205, 1.07314152],\n",
       "       [0.36239316, 0.89184554],\n",
       "       [0.56068376, 0.73413508],\n",
       "       [0.65641026, 0.65542193],\n",
       "       [3.33675214, 4.27239052]])"
      ]
     },
     "execution_count": 36,
     "metadata": {},
     "output_type": "execute_result"
    }
   ],
   "source": [
    "#enrichment/depletion of that distance bin in NN(left) or in non-NN(right), compared to random distances \n",
    "aa=a['data'][0]\n",
    "b=aa/aa.mean(axis=0)\n",
    "b"
   ]
  },
  {
   "cell_type": "code",
   "execution_count": 37,
   "metadata": {},
   "outputs": [
    {
     "data": {
      "text/plain": [
       "array([ 0.75484656,  0.34525547, -0.03343665, -0.1721787 ,  0.31166453,\n",
       "        0.04944668,  0.07135812, -0.04547714, -0.07821026,  0.16679098,\n",
       "       -0.13163635, -0.01700709,  0.1211419 ,  0.0080674 ,  0.03973081,\n",
       "        0.0250882 ,  0.1791885 ,  0.36719306,  0.30949206,  0.14101482,\n",
       "       -0.03804972, -0.16896655, -0.67084539, -0.86625309, -0.90056325,\n",
       "       -0.269536  ,  0.00150679, -0.24717559])"
      ]
     },
     "execution_count": 37,
     "metadata": {},
     "output_type": "execute_result"
    }
   ],
   "source": [
    "#log odds\n",
    "np.log(b[:,0]/b[:,1])"
   ]
  },
  {
   "cell_type": "code",
   "execution_count": 31,
   "metadata": {},
   "outputs": [
    {
     "data": {
      "text/plain": [
       "array([[  151,  3416],\n",
       "       [   54,  1840],\n",
       "       [   46,  2289],\n",
       "       [   48,  2744],\n",
       "       [   84,  2960],\n",
       "       [   71,  3252],\n",
       "       [   79,  3540],\n",
       "       [   77,  3878],\n",
       "       [   76,  3955],\n",
       "       [  108,  4399],\n",
       "       [   86,  4721],\n",
       "       [  100,  4895],\n",
       "       [  112,  4775],\n",
       "       [  103,  4917],\n",
       "       [  112,  5180],\n",
       "       [  118,  5538],\n",
       "       [  135,  5431],\n",
       "       [  484, 16134],\n",
       "       [  448, 15821],\n",
       "       [  322, 13458],\n",
       "       [  221, 11048],\n",
       "       [  180, 10257],\n",
       "       [   95,  8942],\n",
       "       [   66,  7553],\n",
       "       [   53,  6277],\n",
       "       [   82,  5167],\n",
       "       [   96,  4613],\n",
       "       [  488, 30070]], dtype=uint32)"
      ]
     },
     "execution_count": 31,
     "metadata": {},
     "output_type": "execute_result"
    }
   ],
   "source": [
    "#occurences of each distance bin (1 bin per line) in all NN (left) or all non-NN (right) poses\n",
    "aa"
   ]
  },
  {
   "cell_type": "code",
   "execution_count": null,
   "metadata": {},
   "outputs": [],
   "source": []
  }
 ],
 "metadata": {
  "kernelspec": {
   "display_name": "Python 3",
   "language": "python",
   "name": "python3"
  },
  "language_info": {
   "codemirror_mode": {
    "name": "ipython",
    "version": 3
   },
   "file_extension": ".py",
   "mimetype": "text/x-python",
   "name": "python",
   "nbconvert_exporter": "python",
   "pygments_lexer": "ipython3",
   "version": "3.8.5"
  }
 },
 "nbformat": 4,
 "nbformat_minor": 4
}
